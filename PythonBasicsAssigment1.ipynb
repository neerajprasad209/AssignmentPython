{
 "cells": [
  {
   "cell_type": "markdown",
   "id": "e8b2ad7a-2e5b-47b7-979c-a5fa73ad0fb3",
   "metadata": {},
   "source": [
    "# Answer 1 "
   ]
  },
  {
   "cell_type": "markdown",
   "id": "eb0bc537-faba-45ce-8e2a-63d250c7d01b",
   "metadata": {},
   "source": [
    "* Variable firsrt letter should be character or underscore not a number.\n",
    "* Variable names are case sensitive.\n",
    "* Variable name cannot be special characters.\n",
    "* Already reserve words cannot be used as variables."
   ]
  },
  {
   "cell_type": "markdown",
   "id": "103b6d85-72de-4506-8d23-cd4542d9c0c8",
   "metadata": {},
   "source": [
    "Conventions being followed while declearig a variable name."
   ]
  },
  {
   "cell_type": "code",
   "execution_count": 1,
   "id": "bca2ed5c-aeb1-4fc6-b1fd-bca24dd24c3e",
   "metadata": {},
   "outputs": [],
   "source": [
    "num = 12\n",
    "Num = 45\n",
    "first_num = 15\n",
    "First_Num = 67\n",
    "_num = 14\n",
    "FirstNum = 116\n",
    "numFirst =132\n",
    "num1 = 72"
   ]
  },
  {
   "cell_type": "markdown",
   "id": "29d024c1-52d5-43f9-a299-35993fede40f",
   "metadata": {},
   "source": [
    "# Answer2"
   ]
  },
  {
   "cell_type": "markdown",
   "id": "1d3c210d-0a51-4c0c-863d-6ced9cf17ae2",
   "metadata": {},
   "source": [
    "Their is no Keyword like restrict in python but we can think of reserved keywords as restrict keywords "
   ]
  },
  {
   "cell_type": "markdown",
   "id": "8225ccfd-6418-4ba7-85ce-fe10d9dc2ab3",
   "metadata": {},
   "source": [
    "Reserved keywords can't be used as variable name. if we use reserved keyword ans variable name we get an error as invalid syntax."
   ]
  },
  {
   "cell_type": "code",
   "execution_count": 4,
   "id": "9f8f708b-f51a-47e1-ad89-0fde5e0a6b1f",
   "metadata": {},
   "outputs": [
    {
     "ename": "SyntaxError",
     "evalue": "invalid syntax (2338740100.py, line 2)",
     "output_type": "error",
     "traceback": [
      "\u001b[0;36m  Cell \u001b[0;32mIn[4], line 2\u001b[0;36m\u001b[0m\n\u001b[0;31m    if = 1\u001b[0m\n\u001b[0m       ^\u001b[0m\n\u001b[0;31mSyntaxError\u001b[0m\u001b[0;31m:\u001b[0m invalid syntax\n"
     ]
    }
   ],
   "source": [
    "# Example\n",
    "if = 1"
   ]
  },
  {
   "cell_type": "markdown",
   "id": "affb91e1-2d9d-47e0-99c1-3fdc93c82eec",
   "metadata": {},
   "source": [
    "# Answer 3"
   ]
  },
  {
   "cell_type": "markdown",
   "id": "70c94472-3ba8-4097-a0c6-59b852f12470",
   "metadata": {},
   "source": [
    "No we can not declare a string as a variable name\n",
    "* Variable first letter should be character or underscore"
   ]
  },
  {
   "cell_type": "markdown",
   "id": "4cfad82e-a93c-4303-8ba9-272f7a8fe7c3",
   "metadata": {},
   "source": [
    "# Answer 4"
   ]
  },
  {
   "cell_type": "markdown",
   "id": "919cef19-0b93-4180-8246-b135df6aa709",
   "metadata": {},
   "source": [
    "NO we can not declare \"_\"  as a variable. \n",
    "\n",
    "* Variable name can't start with special character"
   ]
  },
  {
   "cell_type": "markdown",
   "id": "a2910af3-bff3-4ad8-9b0d-2a54fca8b71e",
   "metadata": {},
   "source": [
    "# Answer 5"
   ]
  },
  {
   "cell_type": "markdown",
   "id": "7b07a5c5-932a-4082-a19f-7e033972aa2d",
   "metadata": {},
   "source": [
    "Python is a dynamically typed language. it means that the python interpretor does type checcking only as runs so the type of variable is allowed to change over is life time "
   ]
  },
  {
   "cell_type": "code",
   "execution_count": 17,
   "id": "2351fd9d-3f4b-4784-b10b-374070bafdc2",
   "metadata": {},
   "outputs": [],
   "source": [
    "# Example\n",
    "\n",
    "s1 =\"Neeraj\""
   ]
  },
  {
   "cell_type": "code",
   "execution_count": 18,
   "id": "8c4e5358-47f4-4362-becf-766395d9a199",
   "metadata": {},
   "outputs": [
    {
     "data": {
      "text/plain": [
       "str"
      ]
     },
     "execution_count": 18,
     "metadata": {},
     "output_type": "execute_result"
    }
   ],
   "source": [
    "type(s1)"
   ]
  },
  {
   "cell_type": "code",
   "execution_count": 19,
   "id": "145472ab-ab99-4765-86ba-e06e49d76343",
   "metadata": {},
   "outputs": [],
   "source": [
    "s1= 78.986875"
   ]
  },
  {
   "cell_type": "code",
   "execution_count": 20,
   "id": "b3436a7e-8d9f-4e3f-b475-ddc6dc58e0bf",
   "metadata": {},
   "outputs": [
    {
     "data": {
      "text/plain": [
       "float"
      ]
     },
     "execution_count": 20,
     "metadata": {},
     "output_type": "execute_result"
    }
   ],
   "source": [
    "type(s1)"
   ]
  },
  {
   "cell_type": "code",
   "execution_count": null,
   "id": "a20c943c-b3e4-4341-aef7-85e93cf26635",
   "metadata": {},
   "outputs": [],
   "source": []
  }
 ],
 "metadata": {
  "kernelspec": {
   "display_name": "Python 3 (ipykernel)",
   "language": "python",
   "name": "python3"
  },
  "language_info": {
   "codemirror_mode": {
    "name": "ipython",
    "version": 3
   },
   "file_extension": ".py",
   "mimetype": "text/x-python",
   "name": "python",
   "nbconvert_exporter": "python",
   "pygments_lexer": "ipython3",
   "version": "3.10.8"
  }
 },
 "nbformat": 4,
 "nbformat_minor": 5
}

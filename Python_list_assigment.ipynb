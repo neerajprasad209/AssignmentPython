{
 "cells": [
  {
   "cell_type": "markdown",
   "id": "9a65b971-10b7-4bc0-8cb1-fcbf6e914faf",
   "metadata": {},
   "source": [
    "# Answer 1"
   ]
  },
  {
   "cell_type": "code",
   "execution_count": 13,
   "id": "4a8b94d3-fede-437b-9cc6-b17c17cec388",
   "metadata": {},
   "outputs": [],
   "source": [
    "# Creating a empty list\n",
    "my_list = []"
   ]
  },
  {
   "cell_type": "markdown",
   "id": "c9e4fb09-bd03-4e54-aef3-5949f414e492",
   "metadata": {},
   "source": [
    "# Answer 2"
   ]
  },
  {
   "cell_type": "code",
   "execution_count": 14,
   "id": "ab455c07-798e-4b22-acd7-6dd12c0d6c7d",
   "metadata": {},
   "outputs": [],
   "source": [
    "#Cerate a list and the element in the end of the list\n",
    "my_list = [14,36,37,25,49,24,38] #Cerating the list"
   ]
  },
  {
   "cell_type": "code",
   "execution_count": 15,
   "id": "83cea212-d900-4d24-ab85-8e88729b74c3",
   "metadata": {},
   "outputs": [],
   "source": [
    "my_list.append(57) #Using the append() method to add the "
   ]
  },
  {
   "cell_type": "code",
   "execution_count": 16,
   "id": "01e953bf-8293-4b98-a255-fc3c44cee997",
   "metadata": {},
   "outputs": [
    {
     "data": {
      "text/plain": [
       "[14, 36, 37, 25, 49, 24, 38, 57]"
      ]
     },
     "execution_count": 16,
     "metadata": {},
     "output_type": "execute_result"
    }
   ],
   "source": [
    "my_list # print the updated list"
   ]
  },
  {
   "cell_type": "markdown",
   "id": "908cc5e7-6b78-44fe-a5a7-78a39f528193",
   "metadata": {},
   "source": [
    "# Answer 3"
   ]
  },
  {
   "cell_type": "code",
   "execution_count": 17,
   "id": "26dc33a4-db01-4ce0-bbe3-cdd893115c4e",
   "metadata": {},
   "outputs": [
    {
     "data": {
      "text/plain": [
       "[14, 36, 37, 25, 49, 24, 38, 57]"
      ]
     },
     "execution_count": 17,
     "metadata": {},
     "output_type": "execute_result"
    }
   ],
   "source": [
    "# for created list and print the last element in le list\n",
    "my_list  # Print the list"
   ]
  },
  {
   "cell_type": "code",
   "execution_count": 18,
   "id": "b00b23d9-8cbd-4390-8881-b8fe7a40e956",
   "metadata": {},
   "outputs": [
    {
     "data": {
      "text/plain": [
       "49"
      ]
     },
     "execution_count": 18,
     "metadata": {},
     "output_type": "execute_result"
    }
   ],
   "source": [
    "my_list[4] # print the last element of the list"
   ]
  },
  {
   "cell_type": "markdown",
   "id": "d9d6970b-b953-4369-9756-eb1b2d71421c",
   "metadata": {},
   "source": [
    "# Answer 4"
   ]
  },
  {
   "cell_type": "code",
   "execution_count": 19,
   "id": "c0a028aa-ce7c-4685-aeb2-1ec9dadb9b08",
   "metadata": {},
   "outputs": [
    {
     "data": {
      "text/plain": [
       "[14, 36, 37, 25, 49, 24, 38, 57]"
      ]
     },
     "execution_count": 19,
     "metadata": {},
     "output_type": "execute_result"
    }
   ],
   "source": [
    "# reverse the exixting list\n",
    "my_list # Print the list"
   ]
  },
  {
   "cell_type": "code",
   "execution_count": 20,
   "id": "59dde1fa-75ba-4cbe-9b5c-2aed5a0ffa58",
   "metadata": {},
   "outputs": [
    {
     "data": {
      "text/plain": [
       "[57, 38, 24, 49, 25, 37, 36, 14]"
      ]
     },
     "execution_count": 20,
     "metadata": {},
     "output_type": "execute_result"
    }
   ],
   "source": [
    "my_list[::-1] # Reverse the list "
   ]
  },
  {
   "cell_type": "markdown",
   "id": "93ec5e17-4490-42f5-a6bf-4451c20cadb7",
   "metadata": {},
   "source": [
    "# Answer 5"
   ]
  },
  {
   "cell_type": "code",
   "execution_count": 21,
   "id": "ce4e2248-e718-4d20-9363-177f63c8ba3b",
   "metadata": {},
   "outputs": [
    {
     "data": {
      "text/plain": [
       "[14, 36, 37, 25, 49, 24, 38, 57]"
      ]
     },
     "execution_count": 21,
     "metadata": {},
     "output_type": "execute_result"
    }
   ],
   "source": [
    "# sort the above createrd created list\n",
    "my_list  # Printing  my list "
   ]
  },
  {
   "cell_type": "code",
   "execution_count": 22,
   "id": "1deedb16-9edf-4cb4-a5f2-8e00996563cc",
   "metadata": {},
   "outputs": [
    {
     "name": "stdout",
     "output_type": "stream",
     "text": [
      "[14, 24, 25, 36, 37, 38, 49, 57]\n"
     ]
    }
   ],
   "source": [
    "my_list.sort() # using sort() method to shor the list\n",
    "print(my_list)  # Printing the sorted list"
   ]
  },
  {
   "cell_type": "markdown",
   "id": "370462cf-0355-4ac9-afcf-a815af4781e3",
   "metadata": {},
   "source": [
    "# Answer 6"
   ]
  },
  {
   "cell_type": "code",
   "execution_count": 23,
   "id": "7cbdc4b0-38b3-4c6b-b4e0-7bc066c4826a",
   "metadata": {},
   "outputs": [
    {
     "data": {
      "text/plain": [
       "'pirates of the caribbean'"
      ]
     },
     "execution_count": 23,
     "metadata": {},
     "output_type": "execute_result"
    }
   ],
   "source": [
    "# Create a list of your top three favorite movies then print the second movie title\n",
    "\n",
    "movie = [\"Shawshank redemption\", \"pursuit of happyness\", \"pirates of the caribbean\" ] # create the my favorite movies list\n",
    "movie[2] # print the 2nd movie title from the list"
   ]
  },
  {
   "cell_type": "markdown",
   "id": "03faa9b1-5e4b-4743-a5b5-a304bb0ede1f",
   "metadata": {},
   "source": [
    "# Answer 7"
   ]
  },
  {
   "cell_type": "code",
   "execution_count": 26,
   "id": "387575c7-8d9e-4c0a-8b85-9c7a149cf143",
   "metadata": {},
   "outputs": [],
   "source": [
    "# create the favorite animal list then add the new animal and print the updated list\n",
    "\n",
    "animal_list =[\"Horse\", \"Elephant\", \"Panda\"]   # List of My favorite animal\n",
    "animal_list.append(\"Wolf\") # Using append() method to add the new element in the list"
   ]
  },
  {
   "cell_type": "code",
   "execution_count": 25,
   "id": "75a445a7-3718-423d-b81d-85e726aa0794",
   "metadata": {},
   "outputs": [
    {
     "data": {
      "text/plain": [
       "['Horse', 'Elephant', 'Panda', 'Wolf']"
      ]
     },
     "execution_count": 25,
     "metadata": {},
     "output_type": "execute_result"
    }
   ],
   "source": [
    "animal_list # Printing the updated list"
   ]
  },
  {
   "cell_type": "markdown",
   "id": "9e7930fd-1156-4aa8-b86e-4d97972b084e",
   "metadata": {},
   "source": [
    "# Answer 8"
   ]
  },
  {
   "cell_type": "code",
   "execution_count": 10,
   "id": "0d26961c-94cd-4015-968e-4ceb4ff94a77",
   "metadata": {},
   "outputs": [
    {
     "data": {
      "text/plain": [
       "2"
      ]
     },
     "execution_count": 10,
     "metadata": {},
     "output_type": "execute_result"
    }
   ],
   "source": [
    "# Create your favorite city list and then use the index method to find the position of the specific city on the list and print it\n",
    "\n",
    "city_list = [\"Jaipur\", \"Delhi\", \"Varanasi\", \"Ladakh\", \"Coimbatore\"]  # List of my favorite city\n",
    "city_list.index(\"Varanasi\")  # using index() method to find the position of a specific cityon the list and print"
   ]
  }
 ],
 "metadata": {
  "kernelspec": {
   "display_name": "Python 3 (ipykernel)",
   "language": "python",
   "name": "python3"
  },
  "language_info": {
   "codemirror_mode": {
    "name": "ipython",
    "version": 3
   },
   "file_extension": ".py",
   "mimetype": "text/x-python",
   "name": "python",
   "nbconvert_exporter": "python",
   "pygments_lexer": "ipython3",
   "version": "3.10.8"
  }
 },
 "nbformat": 4,
 "nbformat_minor": 5
}

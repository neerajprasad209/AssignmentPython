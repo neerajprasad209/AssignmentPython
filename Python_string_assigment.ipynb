{
 "cells": [
  {
   "cell_type": "markdown",
   "id": "17d9db0a-9997-4f7a-8a5b-75d63df62e90",
   "metadata": {},
   "source": [
    "# Answer 1\n",
    "\n",
    "* If we want to store single quote(') in a variable we have to put single quote inside between double quotes. "
   ]
  },
  {
   "cell_type": "code",
   "execution_count": 4,
   "id": "d3e1e751-ddd0-4b78-ad21-89834998b05b",
   "metadata": {},
   "outputs": [
    {
     "name": "stdout",
     "output_type": "stream",
     "text": [
      "'\n"
     ]
    },
    {
     "data": {
      "text/plain": [
       "str"
      ]
     },
     "execution_count": 4,
     "metadata": {},
     "output_type": "execute_result"
    }
   ],
   "source": [
    "s= \"'\"\n",
    "print(s)\n",
    "type(s)"
   ]
  },
  {
   "cell_type": "markdown",
   "id": "17a2ccfc-8e95-48ca-b39a-c06bf2237316",
   "metadata": {},
   "source": [
    "# Answer 2.\n",
    "\n",
    "* Here 'x' is a string type variable. So in python their is no character data type like other programming languages. When we check the the type of variable in python it always shows 'str'"
   ]
  },
  {
   "cell_type": "code",
   "execution_count": 4,
   "id": "f98480a1-d750-40f0-89e0-f425af2b65dc",
   "metadata": {},
   "outputs": [
    {
     "data": {
      "text/plain": [
       "str"
      ]
     },
     "execution_count": 4,
     "metadata": {},
     "output_type": "execute_result"
    }
   ],
   "source": [
    "# Example 2\n",
    "x='a'\n",
    "type(x)"
   ]
  },
  {
   "cell_type": "markdown",
   "id": "dd262acb-1627-4aa0-833e-36c01c1e009b",
   "metadata": {},
   "source": [
    "# Answer 3"
   ]
  },
  {
   "cell_type": "code",
   "execution_count": 9,
   "id": "4f195ae5-a80c-4bab-815e-713e79752eea",
   "metadata": {},
   "outputs": [],
   "source": [
    "word = 'Welcome to Python foundation course'"
   ]
  },
  {
   "cell_type": "code",
   "execution_count": 10,
   "id": "7aee58d1-ba39-4b54-9192-7a6dd7413b8b",
   "metadata": {},
   "outputs": [
    {
     "data": {
      "text/plain": [
       "23"
      ]
     },
     "execution_count": 10,
     "metadata": {},
     "output_type": "execute_result"
    }
   ],
   "source": [
    "word.find(\"a\")"
   ]
  },
  {
   "cell_type": "code",
   "execution_count": 15,
   "id": "53821b8d-1934-4de9-a22a-4417abe86c59",
   "metadata": {},
   "outputs": [
    {
     "data": {
      "text/plain": [
       "3"
      ]
     },
     "execution_count": 15,
     "metadata": {},
     "output_type": "execute_result"
    }
   ],
   "source": [
    "word.count(\"e\")"
   ]
  },
  {
   "cell_type": "code",
   "execution_count": 16,
   "id": "89713416-f38b-4159-86e3-92d97c0332bd",
   "metadata": {},
   "outputs": [
    {
     "data": {
      "text/plain": [
       "35"
      ]
     },
     "execution_count": 16,
     "metadata": {},
     "output_type": "execute_result"
    }
   ],
   "source": [
    "len(word)"
   ]
  },
  {
   "cell_type": "code",
   "execution_count": 3,
   "id": "648fdb3f-90f1-4a82-bb02-7a7e5ab4479b",
   "metadata": {},
   "outputs": [
    {
     "name": "stdout",
     "output_type": "stream",
     "text": [
      "Neeraj Prasad\n"
     ]
    }
   ],
   "source": [
    "s1 = \"Neeraj\"\n",
    "s2 = \" Prasad\"\n",
    "\n",
    "string = s1+s2\n",
    "print(string)"
   ]
  },
  {
   "cell_type": "markdown",
   "id": "22419397-63f0-4770-8947-7311f1c5ded4",
   "metadata": {},
   "source": [
    "# Answer 4"
   ]
  },
  {
   "cell_type": "code",
   "execution_count": 4,
   "id": "7132c357-fa89-40e2-8680-7764bdba3ad0",
   "metadata": {},
   "outputs": [],
   "source": [
    "word = 'PanaJ1@12256'"
   ]
  },
  {
   "cell_type": "code",
   "execution_count": 8,
   "id": "0840a21e-4970-4460-8a8d-0b0835f860a1",
   "metadata": {},
   "outputs": [
    {
     "name": "stdout",
     "output_type": "stream",
     "text": [
      "4\n"
     ]
    }
   ],
   "source": [
    "# Total no of lowercase in string\n",
    "count=1\n",
    "for char in word:\n",
    "    if (char.islower()):\n",
    "        count = count+1\n",
    "print(count)"
   ]
  },
  {
   "cell_type": "code",
   "execution_count": 9,
   "id": "e65ab945-7083-46ed-8b18-6f7084ef4d5d",
   "metadata": {},
   "outputs": [
    {
     "name": "stdout",
     "output_type": "stream",
     "text": [
      "2\n"
     ]
    }
   ],
   "source": [
    "# Total no of Uppercase in string\n",
    "count=0\n",
    "for char in word:\n",
    "    if (char.isupper()):\n",
    "        count = count+1\n",
    "print(count)"
   ]
  },
  {
   "cell_type": "code",
   "execution_count": 10,
   "id": "5d265bf1-49f7-4e94-8251-9606a03facc3",
   "metadata": {},
   "outputs": [
    {
     "name": "stdout",
     "output_type": "stream",
     "text": [
      "6\n"
     ]
    }
   ],
   "source": [
    "# Total no of numeric value in string\n",
    "count=0\n",
    "for char in word:\n",
    "    if (char.isdigit()):\n",
    "        count = count+1\n",
    "print(count)"
   ]
  },
  {
   "cell_type": "markdown",
   "id": "1fc587e7-b136-423b-a6ed-9fb89ace4f69",
   "metadata": {},
   "source": [
    "# Answer 5"
   ]
  },
  {
   "cell_type": "code",
   "execution_count": 14,
   "id": "2b23d8d6-c870-4523-93a9-a0af540115a7",
   "metadata": {},
   "outputs": [
    {
     "name": "stdin",
     "output_type": "stream",
     "text": [
      "Enter the numeric value  20\n"
     ]
    },
    {
     "data": {
      "text/plain": [
       "str"
      ]
     },
     "execution_count": 14,
     "metadata": {},
     "output_type": "execute_result"
    }
   ],
   "source": [
    "# Convert the numeric into string\n",
    "num = int(input(\"Enter the numeric value \"))\n",
    "\n",
    "num1=str(num)\n",
    "type(num1)"
   ]
  },
  {
   "cell_type": "code",
   "execution_count": null,
   "id": "650b56af-670e-4f98-84a6-72db13436b0d",
   "metadata": {},
   "outputs": [],
   "source": []
  }
 ],
 "metadata": {
  "kernelspec": {
   "display_name": "Python 3 (ipykernel)",
   "language": "python",
   "name": "python3"
  },
  "language_info": {
   "codemirror_mode": {
    "name": "ipython",
    "version": 3
   },
   "file_extension": ".py",
   "mimetype": "text/x-python",
   "name": "python",
   "nbconvert_exporter": "python",
   "pygments_lexer": "ipython3",
   "version": "3.10.8"
  }
 },
 "nbformat": 4,
 "nbformat_minor": 5
}

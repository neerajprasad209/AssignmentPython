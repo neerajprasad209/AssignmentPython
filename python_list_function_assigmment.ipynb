{
 "cells": [
  {
   "cell_type": "markdown",
   "id": "4f5a54fd",
   "metadata": {},
   "source": [
    "# Answer. 1"
   ]
  },
  {
   "cell_type": "markdown",
   "id": "b84ed687",
   "metadata": {},
   "source": [
    "    Their are 3 ways we can add a elenment in the list\n",
    "\n",
    "    1. append Method\n",
    "    2. extend Method\n",
    "    3. insert Method"
   ]
  },
  {
   "cell_type": "markdown",
   "id": "6debff60",
   "metadata": {},
   "source": [
    "### 1. Append Method"
   ]
  },
  {
   "cell_type": "markdown",
   "id": "198b7d64",
   "metadata": {},
   "source": [
    "The append() method is use to add an item to the end of the list.  \n",
    "\n",
    "\n",
    "Syntax: List_name.append(object)"
   ]
  },
  {
   "cell_type": "markdown",
   "id": "44672f60",
   "metadata": {},
   "source": [
    "### 2. Extend Method"
   ]
  },
  {
   "cell_type": "markdown",
   "id": "b2c787c3",
   "metadata": {},
   "source": [
    "The extend() method is used to add all the elements of an iterable to the end of the list.\n",
    "\n",
    "Syntax: list_name.extend(iterable)"
   ]
  },
  {
   "cell_type": "markdown",
   "id": "e8440af7",
   "metadata": {},
   "source": [
    "### 3. Insert Method"
   ]
  },
  {
   "cell_type": "markdown",
   "id": "d073eaa8",
   "metadata": {},
   "source": [
    "The insert() method is used to inserts the specified value at the specified position.\n",
    "\n",
    "It takes two parameters:\n",
    "\n",
    "1. index: the index at which the element has to be inserted.\n",
    "2. element: the element to be inserted in the list.\n",
    "\n",
    "Syntax: list_name.insert(index, element)"
   ]
  },
  {
   "cell_type": "markdown",
   "id": "1fc5b33d",
   "metadata": {},
   "source": [
    "-----------------------------------------------"
   ]
  },
  {
   "cell_type": "markdown",
   "id": "b61bb955",
   "metadata": {},
   "source": [
    "# Answer. 2"
   ]
  },
  {
   "cell_type": "markdown",
   "id": "a00f496e",
   "metadata": {},
   "source": [
    "Major difference between Pop and Remove method"
   ]
  },
  {
   "cell_type": "markdown",
   "id": "67fe8541",
   "metadata": {},
   "source": [
    "1. Major difference between pop() method and the remove() method is that the pop() method uses the index of an element to delete it while the remove() method takes the value of the element as an input argument to delete the element.\n",
    "2. The pop() method can be used without an input argument. And the remove() method needs and argument without argument its shows error"
   ]
  },
  {
   "cell_type": "markdown",
   "id": "412cd0af",
   "metadata": {},
   "source": [
    "# Answer. 3"
   ]
  },
  {
   "cell_type": "code",
   "execution_count": 17,
   "id": "958a4160",
   "metadata": {},
   "outputs": [
    {
     "name": "stdout",
     "output_type": "stream",
     "text": [
      "[45, 39, 26, 24, 19, 15, 12, 9, 8, 4, 3]\n"
     ]
    }
   ],
   "source": [
    "my_list = [3,8,4,9,15,26,12,39,24,19,45] #Creates my list\n",
    "\n",
    "my_list.sort()      #Using sort method to sort the list\n",
    "my_list.reverse ()  #Using the reverse keyword to reverse the list\n",
    "\n",
    "print(my_list)      #print the list"
   ]
  },
  {
   "cell_type": "markdown",
   "id": "86e2ca6a",
   "metadata": {},
   "source": [
    "# Answer. 4"
   ]
  },
  {
   "cell_type": "code",
   "execution_count": 19,
   "id": "3b7987f9",
   "metadata": {},
   "outputs": [
    {
     "name": "stdout",
     "output_type": "stream",
     "text": [
      "The element occur in 4 in the list\n"
     ]
    }
   ],
   "source": [
    "my_list1=[2,4,3,6,3,5,3,5,7,4,7,8,5,7,3,7] #Creating the my_list\n",
    "num = 7       #Declaring num variable and set it to 3\n",
    "count =0      # declaring count variale \n",
    "\n",
    "for i in my_list1:   #usnig for loop to iterate my list\n",
    "    if i == num:     #condition if i equal to num \n",
    "        count = count+1 #then count variable is incriminated \n",
    "print(f\"The element occur in {count} in the list\") # print the my list \n"
   ]
  },
  {
   "cell_type": "markdown",
   "id": "a90f6869",
   "metadata": {},
   "source": [
    "# Anwer. 5"
   ]
  },
  {
   "cell_type": "code",
   "execution_count": 22,
   "id": "e81e203c",
   "metadata": {},
   "outputs": [],
   "source": [
    "my_list = [3,8,4,9,15,26,12,39,24,19,45]  #Creating the my_list\n",
    "my_list.reverse()  #Using the reverse keyword to reverse the list"
   ]
  },
  {
   "cell_type": "code",
   "execution_count": 23,
   "id": "c22335f7",
   "metadata": {},
   "outputs": [
    {
     "data": {
      "text/plain": [
       "[45, 19, 24, 39, 12, 26, 15, 9, 4, 8, 3]"
      ]
     },
     "execution_count": 23,
     "metadata": {},
     "output_type": "execute_result"
    }
   ],
   "source": [
    "my_list #print the list"
   ]
  },
  {
   "cell_type": "code",
   "execution_count": null,
   "id": "be2ee362",
   "metadata": {},
   "outputs": [],
   "source": []
  }
 ],
 "metadata": {
  "kernelspec": {
   "display_name": "Python 3 (ipykernel)",
   "language": "python",
   "name": "python3"
  },
  "language_info": {
   "codemirror_mode": {
    "name": "ipython",
    "version": 3
   },
   "file_extension": ".py",
   "mimetype": "text/x-python",
   "name": "python",
   "nbconvert_exporter": "python",
   "pygments_lexer": "ipython3",
   "version": "3.10.9"
  }
 },
 "nbformat": 4,
 "nbformat_minor": 5
}

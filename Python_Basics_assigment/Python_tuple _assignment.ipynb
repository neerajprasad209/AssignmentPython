{
 "cells": [
  {
   "cell_type": "markdown",
   "id": "f057f843-5600-411c-9d2e-4ddac12611d4",
   "metadata": {},
   "source": [
    "# Answer. 1"
   ]
  },
  {
   "cell_type": "markdown",
   "id": "25203832-4e6a-49b2-a570-f21304b21910",
   "metadata": {},
   "source": [
    "A tuple represents a sequence of any objects separated by commas and enclosed in parentheses.                      \n",
    "Elements in tuples are ordered and immutable. They are used to store multiple items in a single variable and provides some built-in operation to work with them."
   ]
  },
  {
   "cell_type": "markdown",
   "id": "e7357396-29ac-49c9-95e8-5a5489133a4a",
   "metadata": {},
   "source": [
    "# Answer. 2"
   ]
  },
  {
   "cell_type": "markdown",
   "id": "61f7a38d-91a2-447b-a0b9-962599d3c302",
   "metadata": {},
   "source": [
    "Python can be created by enclosing all the comma-separated elements inside the parenthesis()."
   ]
  },
  {
   "cell_type": "markdown",
   "id": "9cc03b79-9217-4fc0-ba0f-63c6eb3ebd48",
   "metadata": {},
   "source": [
    "# Answer.3"
   ]
  },
  {
   "cell_type": "markdown",
   "id": "e52b6b46-3bfb-40e2-a952-d3639973dc6c",
   "metadata": {},
   "source": [
    "### Difference between List and tuple\n",
    "\n",
    "\n",
    "|                     List                       |                     Tuple                       |\n",
    "|------------------------------------------------|-------------------------------------------------|\n",
    "|               List is mutable                  |             Tuple is immutable                  |\n",
    "| List iteration is slower and is time consuming |          Tuple iteration is faster              |\n",
    "|          List consumes more memory             |          Tuples consumes less memory            |\n",
    "|      List provides many in-built methods       |      Tuples have less in-built methods          |\n",
    "\n"
   ]
  },
  {
   "cell_type": "markdown",
   "id": "7f429621-7715-40cf-bc27-54cefda475e9",
   "metadata": {},
   "source": [
    "# Answer. 4"
   ]
  },
  {
   "cell_type": "markdown",
   "id": "c02d8369-76f7-421a-9fed-2da49a41f4f4",
   "metadata": {},
   "source": [
    "You know that tuple is an immutable data type unlike a python dictionary or a list.                                \n",
    "That means you cannot modify a tuple by any means.                                                          \n",
    "But there is a workaround. You can convert the tuple into a list, change the list, and convert the list back into a tuple."
   ]
  },
  {
   "cell_type": "markdown",
   "id": "c97a28a5-09e2-44fc-a484-9bd8858fd09c",
   "metadata": {},
   "source": [
    "# Answer. 5"
   ]
  },
  {
   "cell_type": "markdown",
   "id": "aee970b6-e1e6-49e9-98b8-05fd030cd381",
   "metadata": {},
   "source": [
    "You can access elements of a tuple using index just like a list. Provide an index in square brackets next to the reference to the tuple,         \n",
    "and it returns the elements in tuple present at the index."
   ]
  },
  {
   "cell_type": "code",
   "execution_count": 7,
   "id": "ba3f7fa0-0601-4f7d-ac84-0251690eb82e",
   "metadata": {},
   "outputs": [
    {
     "data": {
      "text/plain": [
       "1997"
      ]
     },
     "execution_count": 7,
     "metadata": {},
     "output_type": "execute_result"
    }
   ],
   "source": [
    "# Example to excess the element in the tuple\n",
    "\n",
    "my_tuple = ('physics', 'chemistry', 1997, 2000);\n",
    "my_tuple[2]"
   ]
  },
  {
   "cell_type": "markdown",
   "id": "383b8228-b37d-436d-9e16-ea978ef49965",
   "metadata": {},
   "source": [
    "# Answer. 6"
   ]
  },
  {
   "cell_type": "markdown",
   "id": "57e57b93-6c80-4b8f-929a-c57ff2322bff",
   "metadata": {},
   "source": [
    "A Tuple is immutable in nature. Its values or contents can not be changed once created.                                \n",
    "But one thing you can do is, you can unpack the contents of a Tuple.                              \n",
    "Unpacking a Tuple means splitting the Tuple’s contents into individual variables."
   ]
  },
  {
   "cell_type": "code",
   "execution_count": 8,
   "id": "40d86072-4857-4a6f-bfa8-3fe647b836cd",
   "metadata": {},
   "outputs": [],
   "source": [
    "new_tuple = (\"Delhi\", \"Lion\", 10000, \"8.366\", \"Neeraj\", True)"
   ]
  },
  {
   "cell_type": "code",
   "execution_count": 9,
   "id": "e2d05bb2-df93-4260-993a-2917f90d1071",
   "metadata": {},
   "outputs": [],
   "source": [
    "(a, b, c, d, e, f) = new_tuple"
   ]
  },
  {
   "cell_type": "code",
   "execution_count": 11,
   "id": "5f818932-9c0e-44e6-843b-964d0a3da92c",
   "metadata": {},
   "outputs": [
    {
     "name": "stdout",
     "output_type": "stream",
     "text": [
      "10000\n"
     ]
    }
   ],
   "source": [
    "print(c)"
   ]
  },
  {
   "cell_type": "code",
   "execution_count": null,
   "id": "93b64302-532a-4854-9cc5-7ae10f4840b8",
   "metadata": {},
   "outputs": [],
   "source": []
  }
 ],
 "metadata": {
  "kernelspec": {
   "display_name": "Python 3 (ipykernel)",
   "language": "python",
   "name": "python3"
  },
  "language_info": {
   "codemirror_mode": {
    "name": "ipython",
    "version": 3
   },
   "file_extension": ".py",
   "mimetype": "text/x-python",
   "name": "python",
   "nbconvert_exporter": "python",
   "pygments_lexer": "ipython3",
   "version": "3.10.8"
  }
 },
 "nbformat": 4,
 "nbformat_minor": 5
}

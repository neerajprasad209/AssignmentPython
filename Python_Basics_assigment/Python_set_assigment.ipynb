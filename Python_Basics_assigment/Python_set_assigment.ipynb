{
 "cells": [
  {
   "cell_type": "markdown",
   "id": "03092901-8b35-4a90-bd2b-6119bd1f05e4",
   "metadata": {},
   "source": [
    "# Answer. 1"
   ]
  },
  {
   "cell_type": "markdown",
   "id": "98441ea9-0a10-47e4-9822-10afd42d611e",
   "metadata": {},
   "source": [
    "Set is a collection of unorder items. Each element in set must be unique, immutable and set remove the duplicte elements.                                                "
   ]
  },
  {
   "cell_type": "markdown",
   "id": "246bb752-aeea-4172-8e62-c2ef42a962b0",
   "metadata": {},
   "source": [
    "# Answer. 2"
   ]
  },
  {
   "cell_type": "markdown",
   "id": "73a81df3-2647-463b-933d-fcd617d88ec5",
   "metadata": {},
   "source": [
    "The set can be created by {} curly braces. Python also provide the set() method which can be used to create the set."
   ]
  },
  {
   "cell_type": "markdown",
   "id": "6dbe9c4e-d9dd-4310-ab5f-3a087097a991",
   "metadata": {},
   "source": [
    "# Answer. 3"
   ]
  },
  {
   "cell_type": "markdown",
   "id": "a91cd0ca-0bc4-4a2b-a597-6e6760b45341",
   "metadata": {},
   "source": [
    "The easiest way to add a single item to a Python set is by using the Python set method, .add().            \n",
    "The method acts on a set and takes a single parameter, the item to add."
   ]
  },
  {
   "cell_type": "code",
   "execution_count": 25,
   "id": "760f4772-4cbb-40be-ba94-4f65fd568a71",
   "metadata": {},
   "outputs": [
    {
     "data": {
      "text/plain": [
       "set"
      ]
     },
     "execution_count": 25,
     "metadata": {},
     "output_type": "execute_result"
    }
   ],
   "source": [
    "s = {1,2,3,4,5}\n",
    "type(s)"
   ]
  },
  {
   "cell_type": "code",
   "execution_count": 26,
   "id": "1c48344b-cd35-4691-92c1-674026b22a5e",
   "metadata": {},
   "outputs": [
    {
     "name": "stdout",
     "output_type": "stream",
     "text": [
      "{1, 2, 3, 4, 5, 6}\n"
     ]
    }
   ],
   "source": [
    "s.add(6)\n",
    "print(s)"
   ]
  },
  {
   "cell_type": "markdown",
   "id": "fa49dbcf-d139-4b0d-9f94-0e7a42ba7145",
   "metadata": {},
   "source": [
    "Python also provides the .update() method that accepts an iterable object to append multiple items to a set."
   ]
  },
  {
   "cell_type": "markdown",
   "id": "34c211fe-9237-4979-8186-7aa08cf5b49e",
   "metadata": {},
   "source": [
    "# Answer. 4"
   ]
  },
  {
   "cell_type": "markdown",
   "id": "cf50ad78-56ca-4a69-a800-c08b26ea427b",
   "metadata": {},
   "source": [
    "We can use the pop() method to remove elements from a set. The pop() method works well only on sets that are not empty.               \n",
    "If we invoke the pop() method on an empty set, it will raise the KeyError exception"
   ]
  },
  {
   "cell_type": "markdown",
   "id": "6bceb702-aa74-47c7-bf88-8669fed3a565",
   "metadata": {},
   "source": [
    "# Answer. 5"
   ]
  },
  {
   "cell_type": "markdown",
   "id": "b0677e53-4447-44ec-b790-62f6009eb41b",
   "metadata": {},
   "source": [
    "The function len() is one of Python’s built-in functions. The function len() always returns an integer as it’s counting the number of items in the object that you pass to it."
   ]
  },
  {
   "cell_type": "code",
   "execution_count": null,
   "id": "3a451973-25f4-483f-a0ad-c5b1b32045eb",
   "metadata": {},
   "outputs": [],
   "source": []
  }
 ],
 "metadata": {
  "kernelspec": {
   "display_name": "Python 3 (ipykernel)",
   "language": "python",
   "name": "python3"
  },
  "language_info": {
   "codemirror_mode": {
    "name": "ipython",
    "version": 3
   },
   "file_extension": ".py",
   "mimetype": "text/x-python",
   "name": "python",
   "nbconvert_exporter": "python",
   "pygments_lexer": "ipython3",
   "version": "3.10.8"
  }
 },
 "nbformat": 4,
 "nbformat_minor": 5
}
